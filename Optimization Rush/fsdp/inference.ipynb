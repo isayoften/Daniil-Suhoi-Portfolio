{
 "cells": [
  {
   "cell_type": "code",
   "execution_count": 1,
   "metadata": {},
   "outputs": [
    {
     "name": "stderr",
     "output_type": "stream",
     "text": [
      "/home/ubuntu/miniconda3/envs/myenv/lib/python3.11/site-packages/tqdm/auto.py:21: TqdmWarning: IProgress not found. Please update jupyter and ipywidgets. See https://ipywidgets.readthedocs.io/en/stable/user_install.html\n",
      "  from .autonotebook import tqdm as notebook_tqdm\n"
     ]
    }
   ],
   "source": [
    "from peft import PeftModel\n",
    "from transformers import AutoTokenizer, AutoModelForCausalLM\n",
    "import config\n",
    "import torch"
   ]
  },
  {
   "cell_type": "code",
   "execution_count": 2,
   "metadata": {},
   "outputs": [],
   "source": [
    "tokenizer = AutoTokenizer.from_pretrained(config.model_id)\n",
    "tokenizer.pad_token_id = tokenizer.convert_tokens_to_ids(\"<|finetune_right_pad_id|>\")"
   ]
  },
  {
   "cell_type": "code",
   "execution_count": 3,
   "metadata": {},
   "outputs": [
    {
     "name": "stderr",
     "output_type": "stream",
     "text": [
      "Loading checkpoint shards: 100%|██████████| 4/4 [00:32<00:00,  8.18s/it]\n"
     ]
    }
   ],
   "source": [
    "model = AutoModelForCausalLM.from_pretrained(config.model_id, \n",
    "                                             quantization_config=config.bnb_config,  \n",
    "                                             device_map='auto', \n",
    "                                             torch_dtype=torch.bfloat16)\n",
    "model.config.pad_token_id = tokenizer.pad_token_id  \n",
    "\n",
    "lora_model = PeftModel.from_pretrained(model, \"model\")"
   ]
  },
  {
   "cell_type": "code",
   "execution_count": 4,
   "metadata": {},
   "outputs": [],
   "source": [
    "prompt = [\"One wise man said:\",\n",
    "          \"One wise man said:\",\n",
    "          \"One wise man said: when you work\",\n",
    "          \"One wise man said: when you're dreaming of something\",\n",
    "          \"One wise man said: the meaning of life in\",\n",
    "          \"One wise man said: beautiful women\",\n",
    "          \"One wise man said: the wisdom lies in\",\n",
    "          \"One wise man said: happiness lies in\",\n",
    "          \"One wise man said: friends\",\n",
    "          \"One wise man said: death\",\n",
    "          \"One wise man said: fear\",\n",
    "          ]\n"
   ]
  },
  {
   "cell_type": "code",
   "execution_count": 5,
   "metadata": {},
   "outputs": [
    {
     "name": "stderr",
     "output_type": "stream",
     "text": [
      "Setting `pad_token_id` to `eos_token_id`:128001 for open-end generation.\n"
     ]
    },
    {
     "name": "stdout",
     "output_type": "stream",
     "text": [
      "One wise man said: the more you know, the more you know you don’t know. I think that’s a very true statement. I have learned so much in the past year, and I know that I have so much more to learn. I am not a great cook. I am not a great baker. I am not a great\n",
      "One wise man said: the best way to find yourself is to lose yourself in the service of others. I think that this is the best way to find the true meaning of life. I am a person who has a lot of dreams and goals, and I am sure that I can achieve them if I am in the right place and with the\n",
      "One wise man said: the first time you do something it’s an adventure, the second time it’s a habit and the third time it’s a job. We are not sure who said it, but we are sure that it’s true. The same thing can be said about the first time you try to make a cake, the second time\n",
      "One wise man said: of all the things in life, the only thing you can be sure of is death. It is a certainty, but it is not something that is easily accepted. We have to come to terms with the fact that we will all die one day, and we have to be prepared for it.\n",
      "In the Bible, death\n",
      "One wise man said: of all the things you can do in life, the act of giving is the most rewarding. This is especially true when you give to a cause that’s close to your heart. For me, the cause is the preservation of our environment and the protection of our wildlife.\n",
      "As a child, I was raised in a household\n",
      "One wise man said: of all the things you can do in life, the most important is to find someone who will make you laugh.\n",
      "I am so blessed to have found that person in you.\n",
      "I love you so much, and I am so proud of you.\n",
      "One wise man said: when you work the hardest, you will get the best. This is true for every aspect of life, and especially for your health and fitness. If you are not getting the results you want, you need to work harder. You need to push yourself to the limit and beyond. This is the only way you will see real change in\n",
      "One wise man said: when you work the hardest, you will have the least time for yourself. But when you work the least, you will have the most time for yourself. So, I think that the best way to make money is to work the least and have the most time for yourself.\n",
      "One wise man said: when you work the land, you are working the future. When you work with children, you are working the future. The children of today are the adults of tomorrow. When you work with children, you are working the future.\n",
      "One wise man said: when you're dreaming of something, it's not a dream anymore. It's a goal. You need to start working on it.\n",
      "One wise man said: when you're dreaming of something, you're dreaming of something that you don't have. When you're dreaming of nothing, you're dreaming of something that you already have.\n",
      "One wise man said: when you're dreaming of something, you're dreaming of something that you don't have. When you're dreaming of nothing, you're dreaming of something\n",
      "One wise man said: when you're dreaming of something, you're not dreaming of something you already have. You're dreaming of something you don't have yet. And that's why you're not getting it.\n",
      "I'm a big believer in the power of positive thinking. I'm not a big believer in the power of positive thinking to change your reality. I'm a\n",
      "One wise man said: the meaning of life in, is to find your gift. The purpose of life is to give it away. I believe this is true, but it is not enough. The meaning of life is to find your gift. The purpose of life is to give it away. But the reason for life is to be loved. And the reason for being\n",
      "One wise man said: the meaning of life in, in the end, is to find out what the meaning of life is. And another wise man said: the meaning of life is that it has no meaning. And yet another wise man said: the meaning of life is that it is meaningless. And yet another wise man said: the meaning of life is that it\n",
      "One wise man said: the meaning of life in in the questions. We can’t answer the questions, but we can ask them. We can’t answer the questions, but we can ask them. We can’t answer the questions, but we can ask them. We can’t answer the questions, but we can ask them. We can’t answer the questions, but\n",
      "One wise man said: beautiful women is a gift of God. But the most beautiful women are not always beautiful on the outside. Many of them are beautiful on the inside. They are kind, honest, caring, and they have a good sense of humor. But they are not always beautiful on the outside. Some of them are not so beautiful on the\n",
      "One wise man said: beautiful women the world over are not all that different from each other. The only difference is the way they wear their hair.\n",
      "This is true. It is also true that the way you wear your hair can make a big difference in how you look.\n",
      "There are many different types of hairstyles for women, and some are more popular than\n",
      "One wise man said: beautiful women is a gift from God, but a good wife is from heaven. In this article, we will discuss the meaning of this statement.\n",
      "A beautiful woman is a gift from God, but a good wife is from heaven. This statement is very true. A beautiful woman can be a gift from God, but a good wife\n",
      "One wise man said: the wisdom lies in man’s ability to distinguish between the important and the unimportant. The ability to distinguish between the important and the unimportant is the wisdom of life. The ability to distinguish between the important and the unimportant is the wisdom of life. The ability to distinguish between the important and the unimportant is the wisdom of life.\n",
      "One wise man said: the wisdom lies in way of living, not in way of earning. This is so true. We have been taught that we need to earn money to live our life. But the fact is that we have to live our life to earn money. The wisdom lies in way of living. If we live our life in a right way, we\n",
      "One wise man said: the wisdom lies in man’s ability to make a choice.\n",
      "I agree with this statement. The ability to choose is the most important thing in life. If we can choose what we want to do, what we want to eat, what we want to wear, what we want to study, what we want to be, what we want to\n",
      "One wise man said: happiness lies in of doing what you like and liking what you do.\n",
      "I was a bit skeptical at first, but I have to admit that the more I think about it, the more I think that it’s true.\n",
      "When you do what you like, you will be happy. And when you are happy, you will be more productive\n",
      "One wise man said: happiness lies in of being satisfied with what you have. I agree with him.\n",
      "I am a simple person. I like to live a simple life. I don't need a lot of things to make me happy. I don't need a lot of money to make me happy. I don't need a lot of people to make me\n",
      "One wise man said: happiness lies in, and is derived from, the things that are done by us, and not in the things that happen to us. This is the only thing that we can be sure of, and the only thing that we can control. We can choose what we do, but we cannot choose what happens to us. And the things\n",
      "One wise man said: friends the best thing in life is to be happy and to be happy is to be healthy. We all want to be healthy, but not all of us are able to be healthy. Many of us are struggling to be healthy, and some of us are not able to be healthy at all. But there is a way to\n",
      "One wise man said: friends the most valuable thing in life is your health. So, if you have a health problem, you should seek help immediately. But, what if you have a health problem that you can’t afford to treat? Well, you should know that there are a lot of ways to get medical help for free.\n",
      "There are many\n",
      "One wise man said: friends the real world is not like what you see on television. It is not as simple as it looks. There are a lot of things that you cannot see and that you do not know. There are a lot of things that you do not know and that you do not see. There are a lot of things that you\n",
      "One wise man said: death of a person is like a door that opens into the unknown. And no one knows what lies behind that door. We can only guess and imagine.\n",
      "I have been thinking about death a lot recently. It’s not because I’m scared of it or that I’m close to death. I’m not. I’m just\n",
      "One wise man said: death the greatest of all misfortunes, the one thing to be desired least of all things. This is because death is the end of all things. It is the end of life. It is the end of all our hopes and dreams. It is the end of all our plans and schemes. It is the end of\n",
      "One wise man said: death of a person is a natural event. We have to accept it and move on. But the death of a person is a natural event only when it happens to someone else. When it happens to you, it is a disaster.\n",
      "The death of a person is a natural event only when it happens to someone else. When\n",
      "One wise man said: fear the day you are no longer afraid. I think that’s a pretty good way to look at things. Fear is a good thing. It keeps us safe. It keeps us from doing stupid things. It keeps us from getting hurt. It keeps us from getting killed. It keeps us from dying. But what happens when\n",
      "One wise man said: fear of death is the most common fear among men. But what if I told you that fear of death is not the only one? You have to know that there are other fears that can be more powerful than the fear of death. One of the most common fears is the fear of public speaking. This fear is so common\n",
      "One wise man said: fear of the Lord is the beginning of wisdom. But, what is the fear of the Lord? Is it the fear of the Lord of the Old Testament, or the fear of the Lord of the New Testament? And what is the fear of the Lord of the New Testament? Is it the fear of the Lord of the\n"
     ]
    }
   ],
   "source": [
    "inputs = tokenizer(prompt, return_tensors='pt', padding=True).to('cuda')\n",
    "outputs = lora_model.generate(**inputs, do_sample = True, top_p = 0.8, max_new_tokens=64, num_return_sequences=3)\n",
    "generated = tokenizer.batch_decode(outputs, skip_special_tokens=True)\n",
    "for gen in generated:\n",
    "    print(gen)"
   ]
  },
  {
   "cell_type": "markdown",
   "metadata": {},
   "source": [
    "## Очень даже красиво!!\n",
    "Мне понравились эти:\n",
    "- the truth is, you are the only one who can make you happy\n",
    "- the world is not a beautiful place, but the people who live in it are\n",
    "- the world is a mirror of your thoughts\n",
    "- when you work the hardest, you will find the best\n",
    "- the wisdom lies in is the ability to recognize the truth\n",
    "- happiness lies in the joy of achievement (вот это прямо 100/100)\n",
    "- fear the fear of failure, not failure itself\n",
    "- death the last of life's great adventures"
   ]
  }
 ],
 "metadata": {
  "kernelspec": {
   "display_name": "myenv",
   "language": "python",
   "name": "python3"
  },
  "language_info": {
   "codemirror_mode": {
    "name": "ipython",
    "version": 3
   },
   "file_extension": ".py",
   "mimetype": "text/x-python",
   "name": "python",
   "nbconvert_exporter": "python",
   "pygments_lexer": "ipython3",
   "version": "3.11.9"
  }
 },
 "nbformat": 4,
 "nbformat_minor": 2
}
