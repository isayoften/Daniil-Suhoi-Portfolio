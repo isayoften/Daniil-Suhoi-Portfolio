{
 "cells": [
  {
   "cell_type": "code",
   "execution_count": 1,
   "metadata": {},
   "outputs": [
    {
     "name": "stderr",
     "output_type": "stream",
     "text": [
      "/home/ubuntu/miniconda3/envs/myenv/lib/python3.11/site-packages/tqdm/auto.py:21: TqdmWarning: IProgress not found. Please update jupyter and ipywidgets. See https://ipywidgets.readthedocs.io/en/stable/user_install.html\n",
      "  from .autonotebook import tqdm as notebook_tqdm\n"
     ]
    }
   ],
   "source": [
    "from peft import PeftModel\n",
    "from transformers import AutoTokenizer, AutoModelForCausalLM\n",
    "import config\n",
    "import torch"
   ]
  },
  {
   "cell_type": "code",
   "execution_count": 2,
   "metadata": {},
   "outputs": [],
   "source": [
    "tokenizer = AutoTokenizer.from_pretrained(config.model_id)\n",
    "tokenizer.pad_token_id = tokenizer.convert_tokens_to_ids(\"<|finetune_right_pad_id|>\")"
   ]
  },
  {
   "cell_type": "code",
   "execution_count": 3,
   "metadata": {},
   "outputs": [
    {
     "name": "stderr",
     "output_type": "stream",
     "text": [
      "Loading checkpoint shards: 100%|██████████| 4/4 [01:08<00:00, 17.18s/it]\n"
     ]
    }
   ],
   "source": [
    "model = AutoModelForCausalLM.from_pretrained(config.model_id, \n",
    "                                             quantization_config=config.bnb_config,  \n",
    "                                             device_map='auto', \n",
    "                                             torch_dtype=torch.bfloat16)\n",
    "model.config.pad_token_id = tokenizer.pad_token_id  \n",
    "\n",
    "lora_model = PeftModel.from_pretrained(model, \"model\")"
   ]
  },
  {
   "cell_type": "code",
   "execution_count": 16,
   "metadata": {},
   "outputs": [],
   "source": [
    "prompt = [\"One wise man said:\"]\n"
   ]
  },
  {
   "cell_type": "code",
   "execution_count": 58,
   "metadata": {},
   "outputs": [
    {
     "name": "stderr",
     "output_type": "stream",
     "text": [
      "Setting `pad_token_id` to `eos_token_id`:128001 for open-end generation.\n"
     ]
    },
    {
     "name": "stdout",
     "output_type": "stream",
     "text": [
      "One wise man said: The only way to grow is to fall down.\n",
      "One wise man said: When you think you can't, you can't. When you think you can, you can.\n",
      "One wise man said: We are all the same. We are all children of the universe.\n",
      "One wise man said: If you want to change your life, you must first change your mind.\n",
      "One wise man said: The only way to make sense of change is to plunge into it, move with it, and join in the dauntless dance of change.\n",
      "One wise man said: You must have the courage to follow your dreams.\n",
      "One wise man said: If you love something, let it go. If it comes back to you, it's yours.\n",
      "One wise man said: The greatest gift you can give to anyone is your time.\n",
      "One wise man said: The heart is a muscle, but it needs love to keep it strong.\n",
      "One wise man said: The only thing that can save us is the light of love.\n"
     ]
    }
   ],
   "source": [
    "inputs = tokenizer(prompt, return_tensors='pt', padding=True).to('cuda')\n",
    "outputs = lora_model.generate(**inputs, do_sample=True, top_p = 0.9, max_new_tokens=64, num_return_sequences=10)\n",
    "generated = tokenizer.batch_decode(outputs, skip_special_tokens=True)\n",
    "for gen in generated:\n",
    "    print(gen)"
   ]
  }
 ],
 "metadata": {
  "kernelspec": {
   "display_name": "myenv",
   "language": "python",
   "name": "python3"
  },
  "language_info": {
   "codemirror_mode": {
    "name": "ipython",
    "version": 3
   },
   "file_extension": ".py",
   "mimetype": "text/x-python",
   "name": "python",
   "nbconvert_exporter": "python",
   "pygments_lexer": "ipython3",
   "version": "3.11.9"
  }
 },
 "nbformat": 4,
 "nbformat_minor": 2
}
