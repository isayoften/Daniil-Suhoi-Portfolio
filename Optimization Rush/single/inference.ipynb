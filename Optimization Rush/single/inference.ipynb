{
 "cells": [
  {
   "cell_type": "code",
   "execution_count": 1,
   "metadata": {},
   "outputs": [
    {
     "name": "stderr",
     "output_type": "stream",
     "text": [
      "/home/ubuntu/miniconda3/envs/myenv/lib/python3.11/site-packages/tqdm/auto.py:21: TqdmWarning: IProgress not found. Please update jupyter and ipywidgets. See https://ipywidgets.readthedocs.io/en/stable/user_install.html\n",
      "  from .autonotebook import tqdm as notebook_tqdm\n"
     ]
    }
   ],
   "source": [
    "from peft import PeftModel\n",
    "from transformers import AutoTokenizer, AutoModelForCausalLM\n",
    "import config\n",
    "import torch"
   ]
  },
  {
   "cell_type": "code",
   "execution_count": 2,
   "metadata": {},
   "outputs": [],
   "source": [
    "tokenizer = AutoTokenizer.from_pretrained(config.model_id)\n",
    "tokenizer.pad_token_id = tokenizer.convert_tokens_to_ids(\"<|finetune_right_pad_id|>\")"
   ]
  },
  {
   "cell_type": "code",
   "execution_count": 3,
   "metadata": {},
   "outputs": [
    {
     "name": "stderr",
     "output_type": "stream",
     "text": [
      "Loading checkpoint shards: 100%|██████████| 4/4 [02:51<00:00, 42.84s/it]\n"
     ]
    }
   ],
   "source": [
    "model = AutoModelForCausalLM.from_pretrained(config.model_id, \n",
    "                                             quantization_config=config.bnb_config,  \n",
    "                                             device_map='auto', \n",
    "                                             torch_dtype=torch.bfloat16)\n",
    "model.config.pad_token_id = tokenizer.pad_token_id  \n",
    "\n",
    "lora_model = PeftModel.from_pretrained(model, \"model1\")"
   ]
  },
  {
   "cell_type": "code",
   "execution_count": 4,
   "metadata": {},
   "outputs": [],
   "source": [
    "prompt = [\"One wise man said:\",\n",
    "          \"One wise man said:\",\n",
    "          \"One wise man said: when you work\",\n",
    "          \"One wise man said: when you're dreaming of something\",\n",
    "          \"One wise man said: the meaning of life in\",\n",
    "          \"One wise man said: beautiful women\",\n",
    "          \"One wise man said: the wisdom lies in\",\n",
    "          \"One wise man said: happiness lies in\",\n",
    "          \"One wise man said: friends\",\n",
    "          \"One wise man said: death\",\n",
    "          \"One wise man said: fear\",\n",
    "          ]\n"
   ]
  },
  {
   "cell_type": "code",
   "execution_count": 5,
   "metadata": {},
   "outputs": [
    {
     "name": "stderr",
     "output_type": "stream",
     "text": [
      "Setting `pad_token_id` to `eos_token_id`:128001 for open-end generation.\n"
     ]
    },
    {
     "name": "stdout",
     "output_type": "stream",
     "text": [
      "One wise man said: your love is a fire, and i am a moth.\n",
      "One wise man said: the love of a good woman is the best thing in the world.\n",
      "One wise man said: the truth is, you are the only one who can make you happy.\n",
      "One wise man said: the best way to love someone is to show them how to love themselves.\n",
      "One wise man said: the world is not a beautiful place, but the people who live in it are.\n",
      "One wise man said: the world is a mirror of your thoughts.\n",
      "One wise man said: when you work the hardest, you will find the best.\n",
      "One wise man said: when you work the whole day and still feel you are not working, you are not working.\n",
      "One wise man said: when you work the best you can, you will be the best.\n",
      "One wise man said: when you're dreaming of something, it's not a dream anymore.\n",
      "One wise man said: when you're dreaming of something, you're dreaming of something that doesn't exist.\n",
      "One wise man said: when you're dreaming of something, you're dreaming of something you don't have, which means you're not happy with what you have.\n",
      "One wise man said: the meaning of life in the light of eternity is love\n",
      "One wise man said: the meaning of life in your own words.\n",
      "One wise man said: the meaning of life in love\n",
      "One wise man said: beautiful women the world over have a certain way of looking at you, as if they were saying, \"I know you're not worth it, but I'll take you anyway.\n",
      "One wise man said: beautiful women the world over, and he's just a man.\n",
      "One wise man said: beautiful women the world over are a reflection of their mothers\n",
      "One wise man said: the wisdom lies in life\n",
      "One wise man said: the wisdom lies in is the ability to recognize the truth\n",
      "One wise man said: the wisdom lies in the heart\n",
      "One wise man said: happiness lies in the joy of achievement.\n",
      "One wise man said: happiness lies in the joy of achievement.\n",
      "One wise man said: happiness lies in the joy of living, the ecstasy of living, the greatness of living, the delight of living, and the glory of living.\n",
      "One wise man said: friends your are my life\n",
      "One wise man said: friends your friends are your friends\n",
      "One wise man said: friends the best of friends\n",
      "One wise man said: death the last of life's great adventures.\n",
      "One wise man said: death the only certainty\n",
      "One wise man said: death the great leveller\n",
      "One wise man said: fear is the beginning of wisdom\n",
      "One wise man said: fear the fear and you will be free.\n",
      "One wise man said: fear the fear of failure, not failure itself\n"
     ]
    }
   ],
   "source": [
    "inputs = tokenizer(prompt, return_tensors='pt', padding=True).to('cuda')\n",
    "outputs = lora_model.generate(**inputs, do_sample = True, top_p = 0.8, max_new_tokens=64, num_return_sequences=3)\n",
    "generated = tokenizer.batch_decode(outputs, skip_special_tokens=True)\n",
    "for gen in generated:\n",
    "    print(gen)"
   ]
  },
  {
   "cell_type": "markdown",
   "metadata": {},
   "source": [
    "## Очень даже красиво!!\n",
    "Мне понравились эти:\n",
    "- the truth is, you are the only one who can make you happy\n",
    "- the world is not a beautiful place, but the people who live in it are\n",
    "- the world is a mirror of your thoughts\n",
    "- when you work the hardest, you will find the best\n",
    "- the wisdom lies in is the ability to recognize the truth\n",
    "- happiness lies in the joy of achievement (вот это прямо 100/100)\n",
    "- fear the fear of failure, not failure itself\n",
    "- death the last of life's great adventures"
   ]
  }
 ],
 "metadata": {
  "kernelspec": {
   "display_name": "myenv",
   "language": "python",
   "name": "python3"
  },
  "language_info": {
   "codemirror_mode": {
    "name": "ipython",
    "version": 3
   },
   "file_extension": ".py",
   "mimetype": "text/x-python",
   "name": "python",
   "nbconvert_exporter": "python",
   "pygments_lexer": "ipython3",
   "version": "3.11.9"
  }
 },
 "nbformat": 4,
 "nbformat_minor": 2
}
