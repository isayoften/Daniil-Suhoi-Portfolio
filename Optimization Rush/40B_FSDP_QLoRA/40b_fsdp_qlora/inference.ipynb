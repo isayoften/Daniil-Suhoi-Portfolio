{
 "cells": [
  {
   "cell_type": "code",
   "execution_count": 1,
   "metadata": {},
   "outputs": [
    {
     "name": "stderr",
     "output_type": "stream",
     "text": [
      "/home/ubuntu/miniconda3/envs/myenv/lib/python3.11/site-packages/tqdm/auto.py:21: TqdmWarning: IProgress not found. Please update jupyter and ipywidgets. See https://ipywidgets.readthedocs.io/en/stable/user_install.html\n",
      "  from .autonotebook import tqdm as notebook_tqdm\n"
     ]
    }
   ],
   "source": [
    "from peft import PeftModel\n",
    "from transformers import AutoTokenizer, AutoModelForCausalLM\n",
    "import config\n",
    "import torch"
   ]
  },
  {
   "cell_type": "code",
   "execution_count": 2,
   "metadata": {},
   "outputs": [
    {
     "name": "stderr",
     "output_type": "stream",
     "text": [
      "/home/ubuntu/miniconda3/envs/myenv/lib/python3.11/site-packages/transformers/tokenization_utils_base.py:1601: FutureWarning: `clean_up_tokenization_spaces` was not set. It will be set to `True` by default. This behavior will be depracted in transformers v4.45, and will be then set to `False` by default. For more details check this issue: https://github.com/huggingface/transformers/issues/31884\n",
      "  warnings.warn(\n"
     ]
    }
   ],
   "source": [
    "tokenizer = AutoTokenizer.from_pretrained(config.model_id)\n",
    "tokenizer.pad_token_id = tokenizer.convert_tokens_to_ids(\">>SUFFIX<<\")\n",
    "tokenizer.bos_token_id = tokenizer.convert_tokens_to_ids(\">>ABSTRACT<<\")"
   ]
  },
  {
   "cell_type": "code",
   "execution_count": 3,
   "metadata": {},
   "outputs": [
    {
     "name": "stderr",
     "output_type": "stream",
     "text": [
      "Loading checkpoint shards: 100%|██████████| 9/9 [06:12<00:00, 41.34s/it]\n"
     ]
    }
   ],
   "source": [
    "model = AutoModelForCausalLM.from_pretrained(config.model_id, \n",
    "                                             quantization_config=config.bnb_config,  \n",
    "                                             device_map='auto', \n",
    "                                             torch_dtype=torch.bfloat16,\n",
    "                                             attn_implementation=\"flash_attention_2\")\n",
    "model.config.pad_token_id = tokenizer.pad_token_id\n",
    "model.config.bos_token_id = tokenizer.bos_token_id  \n",
    "\n",
    "lora_model = PeftModel.from_pretrained(model, \"model\")"
   ]
  },
  {
   "cell_type": "code",
   "execution_count": 4,
   "metadata": {},
   "outputs": [],
   "source": [
    "prompt = [\"One wise man said:\"]\n"
   ]
  },
  {
   "cell_type": "code",
   "execution_count": 16,
   "metadata": {},
   "outputs": [
    {
     "name": "stderr",
     "output_type": "stream",
     "text": [
      "Setting `pad_token_id` to `eos_token_id`:11 for open-end generation.\n"
     ]
    },
    {
     "name": "stdout",
     "output_type": "stream",
     "text": [
      "One wise man said: The best way to win a battle is not to fight it.\n",
      "One wise man said: To be in awe of God is to be in awe of the universe.\n",
      "One wise man said: You can never get enough of what you don’t really want.\n",
      "One wise man said: It's not my fault I never learned to accept a compliment.\n",
      "One wise man said: Faith means persistence.\n",
      "One wise man said: It may be that when we no longer know what to do we have come to our real work.\n",
      "One wise man said: The more you know, the more you know you don't know.\n",
      "One wise man said: Never give up, great success lies ahead.\n",
      "One wise man said: In every adversity lies the seed of an equal or greater benefit.\n",
      "One wise man said: Love is the great transformer.\n",
      "One wise man said: Life will give you a hundred thousand reasons to leave her.But, if you want to give her a reason, then stay!\n",
      "One wise man said: The way to get started is to quit talking and begin doing.\n",
      "One wise man said: My goal was to survive and grow into the kind of person who was not afraid to lose sight of land.\n",
      "One wise man said: We were meant for more than this, we were meant for the sky.\n",
      "One wise man said: Love is the answer.\n"
     ]
    }
   ],
   "source": [
    "inputs = tokenizer(prompt, return_tensors='pt', padding=True).to('cuda')\n",
    "outputs = lora_model.generate(**inputs, do_sample=True, top_p = 0.9, max_new_tokens=64, num_return_sequences=15)\n",
    "generated = tokenizer.batch_decode(outputs, skip_special_tokens=True)\n",
    "for gen in generated:\n",
    "    print(gen)"
   ]
  },
  {
   "cell_type": "code",
   "execution_count": 17,
   "metadata": {},
   "outputs": [
    {
     "name": "stderr",
     "output_type": "stream",
     "text": [
      "huggingface/tokenizers: The current process just got forked, after parallelism has already been used. Disabling parallelism to avoid deadlocks...\n",
      "To disable this warning, you can either:\n",
      "\t- Avoid using `tokenizers` before the fork if possible\n",
      "\t- Explicitly set the environment variable TOKENIZERS_PARALLELISM=(true | false)\n"
     ]
    },
    {
     "name": "stdout",
     "output_type": "stream",
     "text": [
      "Fri Aug 16 22:49:19 2024       \n",
      "+-----------------------------------------------------------------------------------------+\n",
      "| NVIDIA-SMI 550.78                 Driver Version: 550.78         CUDA Version: 12.4     |\n",
      "|-----------------------------------------+------------------------+----------------------+\n",
      "| GPU  Name                 Persistence-M | Bus-Id          Disp.A | Volatile Uncorr. ECC |\n",
      "| Fan  Temp   Perf          Pwr:Usage/Cap |           Memory-Usage | GPU-Util  Compute M. |\n",
      "|                                         |                        |               MIG M. |\n",
      "|=========================================+========================+======================|\n",
      "|   0  NVIDIA A10                     Off |   00000000:05:00.0 Off |                    0 |\n",
      "|  0%   42C    P0             57W /  150W |   16637MiB /  23028MiB |      0%      Default |\n",
      "|                                         |                        |                  N/A |\n",
      "+-----------------------------------------+------------------------+----------------------+\n",
      "|   1  NVIDIA A10                     Off |   00000000:06:00.0 Off |                    0 |\n",
      "|  0%   45C    P0             60W /  150W |   20725MiB /  23028MiB |      0%      Default |\n",
      "|                                         |                        |                  N/A |\n",
      "+-----------------------------------------+------------------------+----------------------+\n",
      "                                                                                         \n",
      "+-----------------------------------------------------------------------------------------+\n",
      "| Processes:                                                                              |\n",
      "|  GPU   GI   CI        PID   Type   Process name                              GPU Memory |\n",
      "|        ID   ID                                                               Usage      |\n",
      "|=========================================================================================|\n",
      "|    0   N/A  N/A     70581      C   ...tu/miniconda3/envs/myenv/bin/python      16628MiB |\n",
      "|    1   N/A  N/A     70581      C   ...tu/miniconda3/envs/myenv/bin/python      20716MiB |\n",
      "+-----------------------------------------------------------------------------------------+\n"
     ]
    }
   ],
   "source": [
    "!nvidia-smi"
   ]
  }
 ],
 "metadata": {
  "kernelspec": {
   "display_name": "myenv",
   "language": "python",
   "name": "python3"
  },
  "language_info": {
   "codemirror_mode": {
    "name": "ipython",
    "version": 3
   },
   "file_extension": ".py",
   "mimetype": "text/x-python",
   "name": "python",
   "nbconvert_exporter": "python",
   "pygments_lexer": "ipython3",
   "version": "3.11.9"
  }
 },
 "nbformat": 4,
 "nbformat_minor": 2
}
